{
 "cells": [
  {
   "cell_type": "markdown",
   "metadata": {},
   "source": [
    "# Import Packages"
   ]
  },
  {
   "cell_type": "code",
   "execution_count": 1,
   "metadata": {},
   "outputs": [],
   "source": [
    "import json\n",
    "import requests\n",
    "from bs4 import BeautifulSoup as BS\n",
    "import regex as re\n",
    "import string\n",
    "import time\n",
    "import pandas as pd"
   ]
  },
  {
   "cell_type": "markdown",
   "metadata": {},
   "source": [
    "# Get List of NYTimes Fiction Bestsellers Lists"
   ]
  },
  {
   "cell_type": "code",
   "execution_count": 33,
   "metadata": {},
   "outputs": [
    {
     "name": "stdout",
     "output_type": "stream",
     "text": [
      "You are trying to parse a Wiki page.\n"
     ]
    }
   ],
   "source": [
    "# Get links to all lists of NYTimes Fiction Bestsellers since 1931\n",
    "url = \"https://en.wikipedia.org/wiki/Lists_of_The_New_York_Times_Fiction_Best_Sellers\"\n",
    "try:\n",
    "    print('You are trying to parse a Wiki page.')\n",
    "    page = requests.get(url)\n",
    "    content = BS(page.content, 'html.parser')\n",
    "except:\n",
    "    print('You failed to parse page')"
   ]
  },
  {
   "cell_type": "code",
   "execution_count": 28,
   "metadata": {},
   "outputs": [],
   "source": [
    "# Get all URLs to lists of NYTimes Fiction Bestsellers lists\n",
    "urls = content.find_all('a', href = True)\n",
    "links = [url['href'] for url in urls if url['href'].startswith('/wiki/The') and 'Fiction' in url['href']]\n",
    "all_urls = sorted(list(set(links)))"
   ]
  },
  {
   "cell_type": "code",
   "execution_count": 30,
   "metadata": {},
   "outputs": [
    {
     "data": {
      "text/plain": [
       "['/wiki/The_New_York_Times_Fiction_Best_Sellers_of_1931',\n",
       " '/wiki/The_New_York_Times_Fiction_Best_Sellers_of_1939',\n",
       " '/wiki/The_New_York_Times_Fiction_Best_Sellers_of_1940',\n",
       " '/wiki/The_New_York_Times_Fiction_Best_Sellers_of_1941',\n",
       " '/wiki/The_New_York_Times_Fiction_Best_Sellers_of_1942',\n",
       " '/wiki/The_New_York_Times_Fiction_Best_Sellers_of_1943',\n",
       " '/wiki/The_New_York_Times_Fiction_Best_Sellers_of_1944',\n",
       " '/wiki/The_New_York_Times_Fiction_Best_Sellers_of_1945',\n",
       " '/wiki/The_New_York_Times_Fiction_Best_Sellers_of_1946',\n",
       " '/wiki/The_New_York_Times_Fiction_Best_Sellers_of_1947',\n",
       " '/wiki/The_New_York_Times_Fiction_Best_Sellers_of_1948',\n",
       " '/wiki/The_New_York_Times_Fiction_Best_Sellers_of_1949',\n",
       " '/wiki/The_New_York_Times_Fiction_Best_Sellers_of_1950',\n",
       " '/wiki/The_New_York_Times_Fiction_Best_Sellers_of_1951',\n",
       " '/wiki/The_New_York_Times_Fiction_Best_Sellers_of_1952',\n",
       " '/wiki/The_New_York_Times_Fiction_Best_Sellers_of_1953',\n",
       " '/wiki/The_New_York_Times_Fiction_Best_Sellers_of_1954',\n",
       " '/wiki/The_New_York_Times_Fiction_Best_Sellers_of_1955',\n",
       " '/wiki/The_New_York_Times_Fiction_Best_Sellers_of_1956',\n",
       " '/wiki/The_New_York_Times_Fiction_Best_Sellers_of_1957',\n",
       " '/wiki/The_New_York_Times_Fiction_Best_Sellers_of_1958',\n",
       " '/wiki/The_New_York_Times_Fiction_Best_Sellers_of_1959',\n",
       " '/wiki/The_New_York_Times_Fiction_Best_Sellers_of_1960',\n",
       " '/wiki/The_New_York_Times_Fiction_Best_Sellers_of_1961',\n",
       " '/wiki/The_New_York_Times_Fiction_Best_Sellers_of_1962',\n",
       " '/wiki/The_New_York_Times_Fiction_Best_Sellers_of_1963',\n",
       " '/wiki/The_New_York_Times_Fiction_Best_Sellers_of_1964',\n",
       " '/wiki/The_New_York_Times_Fiction_Best_Sellers_of_1965',\n",
       " '/wiki/The_New_York_Times_Fiction_Best_Sellers_of_1966',\n",
       " '/wiki/The_New_York_Times_Fiction_Best_Sellers_of_1967',\n",
       " '/wiki/The_New_York_Times_Fiction_Best_Sellers_of_1968',\n",
       " '/wiki/The_New_York_Times_Fiction_Best_Sellers_of_1969',\n",
       " '/wiki/The_New_York_Times_Fiction_Best_Sellers_of_1970',\n",
       " '/wiki/The_New_York_Times_Fiction_Best_Sellers_of_1971',\n",
       " '/wiki/The_New_York_Times_Fiction_Best_Sellers_of_1972',\n",
       " '/wiki/The_New_York_Times_Fiction_Best_Sellers_of_1973',\n",
       " '/wiki/The_New_York_Times_Fiction_Best_Sellers_of_1974',\n",
       " '/wiki/The_New_York_Times_Fiction_Best_Sellers_of_1975',\n",
       " '/wiki/The_New_York_Times_Fiction_Best_Sellers_of_1976',\n",
       " '/wiki/The_New_York_Times_Fiction_Best_Sellers_of_1977',\n",
       " '/wiki/The_New_York_Times_Fiction_Best_Sellers_of_1978',\n",
       " '/wiki/The_New_York_Times_Fiction_Best_Sellers_of_1979',\n",
       " '/wiki/The_New_York_Times_Fiction_Best_Sellers_of_1980',\n",
       " '/wiki/The_New_York_Times_Fiction_Best_Sellers_of_1981',\n",
       " '/wiki/The_New_York_Times_Fiction_Best_Sellers_of_1982',\n",
       " '/wiki/The_New_York_Times_Fiction_Best_Sellers_of_1983',\n",
       " '/wiki/The_New_York_Times_Fiction_Best_Sellers_of_1984',\n",
       " '/wiki/The_New_York_Times_Fiction_Best_Sellers_of_1985',\n",
       " '/wiki/The_New_York_Times_Fiction_Best_Sellers_of_1986',\n",
       " '/wiki/The_New_York_Times_Fiction_Best_Sellers_of_1987',\n",
       " '/wiki/The_New_York_Times_Fiction_Best_Sellers_of_1988',\n",
       " '/wiki/The_New_York_Times_Fiction_Best_Sellers_of_1989',\n",
       " '/wiki/The_New_York_Times_Fiction_Best_Sellers_of_1990',\n",
       " '/wiki/The_New_York_Times_Fiction_Best_Sellers_of_1991',\n",
       " '/wiki/The_New_York_Times_Fiction_Best_Sellers_of_1992',\n",
       " '/wiki/The_New_York_Times_Fiction_Best_Sellers_of_1993',\n",
       " '/wiki/The_New_York_Times_Fiction_Best_Sellers_of_1994',\n",
       " '/wiki/The_New_York_Times_Fiction_Best_Sellers_of_1995',\n",
       " '/wiki/The_New_York_Times_Fiction_Best_Sellers_of_1996',\n",
       " '/wiki/The_New_York_Times_Fiction_Best_Sellers_of_1997',\n",
       " '/wiki/The_New_York_Times_Fiction_Best_Sellers_of_1998',\n",
       " '/wiki/The_New_York_Times_Fiction_Best_Sellers_of_1999',\n",
       " '/wiki/The_New_York_Times_Fiction_Best_Sellers_of_2000',\n",
       " '/wiki/The_New_York_Times_Fiction_Best_Sellers_of_2001',\n",
       " '/wiki/The_New_York_Times_Fiction_Best_Sellers_of_2002',\n",
       " '/wiki/The_New_York_Times_Fiction_Best_Sellers_of_2003',\n",
       " '/wiki/The_New_York_Times_Fiction_Best_Sellers_of_2004',\n",
       " '/wiki/The_New_York_Times_Fiction_Best_Sellers_of_2005',\n",
       " '/wiki/The_New_York_Times_Fiction_Best_Sellers_of_2006',\n",
       " '/wiki/The_New_York_Times_Fiction_Best_Sellers_of_2007',\n",
       " '/wiki/The_New_York_Times_Fiction_Best_Sellers_of_2008',\n",
       " '/wiki/The_New_York_Times_Fiction_Best_Sellers_of_2009',\n",
       " '/wiki/The_New_York_Times_Fiction_Best_Sellers_of_2010',\n",
       " '/wiki/The_New_York_Times_Fiction_Best_Sellers_of_2011',\n",
       " '/wiki/The_New_York_Times_Fiction_Best_Sellers_of_2012',\n",
       " '/wiki/The_New_York_Times_Fiction_Best_Sellers_of_2013',\n",
       " '/wiki/The_New_York_Times_Fiction_Best_Sellers_of_2014',\n",
       " '/wiki/The_New_York_Times_Fiction_Best_Sellers_of_2015',\n",
       " '/wiki/The_New_York_Times_Fiction_Best_Sellers_of_2016',\n",
       " '/wiki/The_New_York_Times_Fiction_Best_Sellers_of_2017',\n",
       " '/wiki/The_New_York_Times_Fiction_Best_Sellers_of_2018',\n",
       " '/wiki/The_New_York_Times_Fiction_Best_Sellers_of_2019',\n",
       " '/wiki/The_New_York_Times_Fiction_Best_Sellers_of_2020']"
      ]
     },
     "execution_count": 30,
     "metadata": {},
     "output_type": "execute_result"
    }
   ],
   "source": [
    "all_urls"
   ]
  },
  {
   "cell_type": "code",
   "execution_count": 31,
   "metadata": {},
   "outputs": [
    {
     "data": {
      "text/plain": [
       "'/wiki/The_New_York_Times_Fiction_Best_Sellers_of_1931'"
      ]
     },
     "execution_count": 31,
     "metadata": {},
     "output_type": "execute_result"
    }
   ],
   "source": [
    "all_urls[0]"
   ]
  },
  {
   "cell_type": "markdown",
   "metadata": {},
   "source": [
    "# Get Books from 1931 List"
   ]
  },
  {
   "cell_type": "code",
   "execution_count": 35,
   "metadata": {},
   "outputs": [
    {
     "name": "stdout",
     "output_type": "stream",
     "text": [
      "1931\n",
      "You are trying to parse a Wiki page.\n"
     ]
    }
   ],
   "source": [
    "year = all_urls[0].split('_')[-1]\n",
    "print(year)\n",
    "url_1931 = \"https://en.wikipedia.org\" + all_urls[0]\n",
    "\n",
    "try:\n",
    "    print('You are trying to parse a Wiki page.')\n",
    "    page = requests.get(url_1931)\n",
    "    content = BS(page.content, 'html.parser')\n",
    "except:\n",
    "    print('You failed to parse the wiki.')"
   ]
  },
  {
   "cell_type": "code",
   "execution_count": 59,
   "metadata": {},
   "outputs": [
    {
     "data": {
      "text/plain": [
       "[<th>Date\n",
       " </th>, <th>Book\n",
       " </th>, <th>Author\n",
       " </th>]"
      ]
     },
     "execution_count": 59,
     "metadata": {},
     "output_type": "execute_result"
    }
   ],
   "source": [
    "# Get table headers\n",
    "content.find_all('table')[0].find_all('th')"
   ]
  },
  {
   "cell_type": "code",
   "execution_count": 61,
   "metadata": {},
   "outputs": [
    {
     "data": {
      "text/plain": [
       "[<td>October 12</td>,\n",
       " <td><i>The Ten Commandments</i></td>,\n",
       " <td><a href=\"/wiki/Warwick_Deeping\" title=\"Warwick Deeping\">Warwick Deeping</a>\n",
       " </td>,\n",
       " <td>October 19</td>,\n",
       " <td colspan=\"2\" rowspan=\"4\">No List Published\n",
       " </td>,\n",
       " <td>October 26\n",
       " </td>,\n",
       " <td>November 2\n",
       " </td>,\n",
       " <td>November 9\n",
       " </td>,\n",
       " <td>November 16</td>,\n",
       " <td><i>Maid in Waiting</i></td>,\n",
       " <td><a href=\"/wiki/John_Galsworthy\" title=\"John Galsworthy\">John Galsworthy</a>\n",
       " </td>,\n",
       " <td>November 23</td>,\n",
       " <td colspan=\"2\">No List Published\n",
       " </td>,\n",
       " <td>November 30</td>,\n",
       " <td rowspan=\"5\"><i>Maid in Waiting</i></td>,\n",
       " <td rowspan=\"5\">John Galsworthy\n",
       " </td>,\n",
       " <td>December 7\n",
       " </td>,\n",
       " <td>December 14\n",
       " </td>,\n",
       " <td>December 21\n",
       " </td>,\n",
       " <td>December 28\n",
       " </td>]"
      ]
     },
     "execution_count": 61,
     "metadata": {},
     "output_type": "execute_result"
    }
   ],
   "source": [
    "# Get table contents\n",
    "content.find_all('table')[0].find_all('td')"
   ]
  },
  {
   "cell_type": "code",
   "execution_count": 39,
   "metadata": {},
   "outputs": [
    {
     "data": {
      "text/plain": [
       "[<td>October 12</td>,\n",
       " <td><i>The Ten Commandments</i></td>,\n",
       " <td><a href=\"/wiki/Warwick_Deeping\" title=\"Warwick Deeping\">Warwick Deeping</a>\n",
       " </td>,\n",
       " <td>October 19</td>,\n",
       " <td colspan=\"2\" rowspan=\"4\">No List Published\n",
       " </td>,\n",
       " <td>October 26\n",
       " </td>,\n",
       " <td>November 2\n",
       " </td>,\n",
       " <td>November 9\n",
       " </td>,\n",
       " <td>November 16</td>,\n",
       " <td><i>Maid in Waiting</i></td>,\n",
       " <td><a href=\"/wiki/John_Galsworthy\" title=\"John Galsworthy\">John Galsworthy</a>\n",
       " </td>,\n",
       " <td>November 23</td>,\n",
       " <td colspan=\"2\">No List Published\n",
       " </td>,\n",
       " <td>November 30</td>,\n",
       " <td rowspan=\"5\"><i>Maid in Waiting</i></td>,\n",
       " <td rowspan=\"5\">John Galsworthy\n",
       " </td>,\n",
       " <td>December 7\n",
       " </td>,\n",
       " <td>December 14\n",
       " </td>,\n",
       " <td>December 21\n",
       " </td>,\n",
       " <td>December 28\n",
       " </td>,\n",
       " <td class=\"navbox-list navbox-odd hlist\" style=\"text-align:left;border-left-width:2px;border-left-style:solid;width:100%;padding:0px\"><div style=\"padding:0em 0.25em\">\n",
       " <ul><li><a class=\"mw-selflink selflink\">1931</a>  </li>\n",
       " <li><a class=\"new\" href=\"/w/index.php?title=The_New_York_Times_Fiction_Best_Sellers_of_1932&amp;action=edit&amp;redlink=1\" title=\"The New York Times Fiction Best Sellers of 1932 (page does not exist)\">1932</a>  </li>\n",
       " <li><a class=\"new\" href=\"/w/index.php?title=The_New_York_Times_Fiction_Best_Sellers_of_1933&amp;action=edit&amp;redlink=1\" title=\"The New York Times Fiction Best Sellers of 1933 (page does not exist)\">1933</a>  </li>\n",
       " <li><a class=\"new\" href=\"/w/index.php?title=The_New_York_Times_Fiction_Best_Sellers_of_1934&amp;action=edit&amp;redlink=1\" title=\"The New York Times Fiction Best Sellers of 1934 (page does not exist)\">1934</a>  </li>\n",
       " <li><a class=\"new\" href=\"/w/index.php?title=The_New_York_Times_Fiction_Best_Sellers_of_1935&amp;action=edit&amp;redlink=1\" title=\"The New York Times Fiction Best Sellers of 1935 (page does not exist)\">1935</a>  </li>\n",
       " <li><a class=\"new\" href=\"/w/index.php?title=The_New_York_Times_Fiction_Best_Sellers_of_1936&amp;action=edit&amp;redlink=1\" title=\"The New York Times Fiction Best Sellers of 1936 (page does not exist)\">1936</a>  </li>\n",
       " <li><a class=\"new\" href=\"/w/index.php?title=The_New_York_Times_Fiction_Best_Sellers_of_1937&amp;action=edit&amp;redlink=1\" title=\"The New York Times Fiction Best Sellers of 1937 (page does not exist)\">1937</a>  </li>\n",
       " <li><a class=\"new\" href=\"/w/index.php?title=The_New_York_Times_Fiction_Best_Sellers_of_1938&amp;action=edit&amp;redlink=1\" title=\"The New York Times Fiction Best Sellers of 1938 (page does not exist)\">1938</a>  </li>\n",
       " <li><a href=\"/wiki/The_New_York_Times_Fiction_Best_Sellers_of_1939\" title=\"The New York Times Fiction Best Sellers of 1939\">1939</a>  </li>\n",
       " <li><a href=\"/wiki/The_New_York_Times_Fiction_Best_Sellers_of_1940\" title=\"The New York Times Fiction Best Sellers of 1940\">1940</a>  </li>\n",
       " <li><a href=\"/wiki/The_New_York_Times_Fiction_Best_Sellers_of_1941\" title=\"The New York Times Fiction Best Sellers of 1941\">1941</a>  </li>\n",
       " <li><a href=\"/wiki/The_New_York_Times_Fiction_Best_Sellers_of_1942\" title=\"The New York Times Fiction Best Sellers of 1942\">1942</a>  </li>\n",
       " <li><a href=\"/wiki/The_New_York_Times_Fiction_Best_Sellers_of_1943\" title=\"The New York Times Fiction Best Sellers of 1943\">1943</a>  </li>\n",
       " <li><a href=\"/wiki/The_New_York_Times_Fiction_Best_Sellers_of_1944\" title=\"The New York Times Fiction Best Sellers of 1944\">1944</a>  </li>\n",
       " <li><a href=\"/wiki/The_New_York_Times_Fiction_Best_Sellers_of_1945\" title=\"The New York Times Fiction Best Sellers of 1945\">1945</a>  </li>\n",
       " <li><a href=\"/wiki/The_New_York_Times_Fiction_Best_Sellers_of_1946\" title=\"The New York Times Fiction Best Sellers of 1946\">1946</a>  </li>\n",
       " <li><a href=\"/wiki/The_New_York_Times_Fiction_Best_Sellers_of_1947\" title=\"The New York Times Fiction Best Sellers of 1947\">1947</a>  </li>\n",
       " <li><a href=\"/wiki/The_New_York_Times_Fiction_Best_Sellers_of_1948\" title=\"The New York Times Fiction Best Sellers of 1948\">1948</a>  </li>\n",
       " <li><a href=\"/wiki/The_New_York_Times_Fiction_Best_Sellers_of_1949\" title=\"The New York Times Fiction Best Sellers of 1949\">1949</a>  </li>\n",
       " <li><a href=\"/wiki/The_New_York_Times_Fiction_Best_Sellers_of_1950\" title=\"The New York Times Fiction Best Sellers of 1950\">1950</a>  </li></ul>\n",
       " </div></td>,\n",
       " <td class=\"navbox-list navbox-even hlist\" style=\"text-align:left;border-left-width:2px;border-left-style:solid;width:100%;padding:0px\"><div style=\"padding:0em 0.25em\">\n",
       " <ul><li><a href=\"/wiki/The_New_York_Times_Fiction_Best_Sellers_of_1951\" title=\"The New York Times Fiction Best Sellers of 1951\">1951</a>  </li>\n",
       " <li><a href=\"/wiki/The_New_York_Times_Fiction_Best_Sellers_of_1952\" title=\"The New York Times Fiction Best Sellers of 1952\">1952</a>  </li>\n",
       " <li><a href=\"/wiki/The_New_York_Times_Fiction_Best_Sellers_of_1953\" title=\"The New York Times Fiction Best Sellers of 1953\">1953</a>  </li>\n",
       " <li><a href=\"/wiki/The_New_York_Times_Fiction_Best_Sellers_of_1954\" title=\"The New York Times Fiction Best Sellers of 1954\">1954</a>  </li>\n",
       " <li><a href=\"/wiki/The_New_York_Times_Fiction_Best_Sellers_of_1955\" title=\"The New York Times Fiction Best Sellers of 1955\">1955</a>  </li>\n",
       " <li><a href=\"/wiki/The_New_York_Times_Fiction_Best_Sellers_of_1956\" title=\"The New York Times Fiction Best Sellers of 1956\">1956</a>  </li>\n",
       " <li><a href=\"/wiki/The_New_York_Times_Fiction_Best_Sellers_of_1957\" title=\"The New York Times Fiction Best Sellers of 1957\">1957</a>  </li>\n",
       " <li><a href=\"/wiki/The_New_York_Times_Fiction_Best_Sellers_of_1958\" title=\"The New York Times Fiction Best Sellers of 1958\">1958</a>  </li>\n",
       " <li><a href=\"/wiki/The_New_York_Times_Fiction_Best_Sellers_of_1959\" title=\"The New York Times Fiction Best Sellers of 1959\">1959</a>  </li>\n",
       " <li><a href=\"/wiki/The_New_York_Times_Fiction_Best_Sellers_of_1960\" title=\"The New York Times Fiction Best Sellers of 1960\">1960</a>  </li>\n",
       " <li><a href=\"/wiki/The_New_York_Times_Fiction_Best_Sellers_of_1961\" title=\"The New York Times Fiction Best Sellers of 1961\">1961</a>  </li>\n",
       " <li><a href=\"/wiki/The_New_York_Times_Fiction_Best_Sellers_of_1962\" title=\"The New York Times Fiction Best Sellers of 1962\">1962</a>  </li>\n",
       " <li><a href=\"/wiki/The_New_York_Times_Fiction_Best_Sellers_of_1963\" title=\"The New York Times Fiction Best Sellers of 1963\">1963</a>  </li>\n",
       " <li><a href=\"/wiki/The_New_York_Times_Fiction_Best_Sellers_of_1964\" title=\"The New York Times Fiction Best Sellers of 1964\">1964</a>  </li>\n",
       " <li><a href=\"/wiki/The_New_York_Times_Fiction_Best_Sellers_of_1965\" title=\"The New York Times Fiction Best Sellers of 1965\">1965</a>  </li>\n",
       " <li><a href=\"/wiki/The_New_York_Times_Fiction_Best_Sellers_of_1966\" title=\"The New York Times Fiction Best Sellers of 1966\">1966</a>  </li>\n",
       " <li><a href=\"/wiki/The_New_York_Times_Fiction_Best_Sellers_of_1967\" title=\"The New York Times Fiction Best Sellers of 1967\">1967</a>  </li>\n",
       " <li><a href=\"/wiki/The_New_York_Times_Fiction_Best_Sellers_of_1968\" title=\"The New York Times Fiction Best Sellers of 1968\">1968</a>  </li>\n",
       " <li><a href=\"/wiki/The_New_York_Times_Fiction_Best_Sellers_of_1969\" title=\"The New York Times Fiction Best Sellers of 1969\">1969</a>  </li>\n",
       " <li><a href=\"/wiki/The_New_York_Times_Fiction_Best_Sellers_of_1970\" title=\"The New York Times Fiction Best Sellers of 1970\">1970</a>  </li></ul>\n",
       " </div></td>,\n",
       " <td class=\"navbox-list navbox-odd hlist\" style=\"text-align:left;border-left-width:2px;border-left-style:solid;width:100%;padding:0px\"><div style=\"padding:0em 0.25em\">\n",
       " <ul><li><a href=\"/wiki/The_New_York_Times_Fiction_Best_Sellers_of_1971\" title=\"The New York Times Fiction Best Sellers of 1971\">1971</a>  </li>\n",
       " <li><a href=\"/wiki/The_New_York_Times_Fiction_Best_Sellers_of_1972\" title=\"The New York Times Fiction Best Sellers of 1972\">1972</a>  </li>\n",
       " <li><a href=\"/wiki/The_New_York_Times_Fiction_Best_Sellers_of_1973\" title=\"The New York Times Fiction Best Sellers of 1973\">1973</a>  </li>\n",
       " <li><a href=\"/wiki/The_New_York_Times_Fiction_Best_Sellers_of_1974\" title=\"The New York Times Fiction Best Sellers of 1974\">1974</a>  </li>\n",
       " <li><a href=\"/wiki/The_New_York_Times_Fiction_Best_Sellers_of_1975\" title=\"The New York Times Fiction Best Sellers of 1975\">1975</a>  </li>\n",
       " <li><a href=\"/wiki/The_New_York_Times_Fiction_Best_Sellers_of_1976\" title=\"The New York Times Fiction Best Sellers of 1976\">1976</a>  </li>\n",
       " <li><a href=\"/wiki/The_New_York_Times_Fiction_Best_Sellers_of_1977\" title=\"The New York Times Fiction Best Sellers of 1977\">1977</a>  </li>\n",
       " <li><a href=\"/wiki/The_New_York_Times_Fiction_Best_Sellers_of_1978\" title=\"The New York Times Fiction Best Sellers of 1978\">1978</a>  </li>\n",
       " <li><a href=\"/wiki/The_New_York_Times_Fiction_Best_Sellers_of_1979\" title=\"The New York Times Fiction Best Sellers of 1979\">1979</a>  </li>\n",
       " <li><a href=\"/wiki/The_New_York_Times_Fiction_Best_Sellers_of_1980\" title=\"The New York Times Fiction Best Sellers of 1980\">1980</a>  </li>\n",
       " <li><a href=\"/wiki/The_New_York_Times_Fiction_Best_Sellers_of_1981\" title=\"The New York Times Fiction Best Sellers of 1981\">1981</a>  </li>\n",
       " <li><a href=\"/wiki/The_New_York_Times_Fiction_Best_Sellers_of_1982\" title=\"The New York Times Fiction Best Sellers of 1982\">1982</a>  </li>\n",
       " <li><a href=\"/wiki/The_New_York_Times_Fiction_Best_Sellers_of_1983\" title=\"The New York Times Fiction Best Sellers of 1983\">1983</a>  </li>\n",
       " <li><a href=\"/wiki/The_New_York_Times_Fiction_Best_Sellers_of_1984\" title=\"The New York Times Fiction Best Sellers of 1984\">1984</a>  </li>\n",
       " <li><a href=\"/wiki/The_New_York_Times_Fiction_Best_Sellers_of_1985\" title=\"The New York Times Fiction Best Sellers of 1985\">1985</a>  </li>\n",
       " <li><a href=\"/wiki/The_New_York_Times_Fiction_Best_Sellers_of_1986\" title=\"The New York Times Fiction Best Sellers of 1986\">1986</a>  </li>\n",
       " <li><a href=\"/wiki/The_New_York_Times_Fiction_Best_Sellers_of_1987\" title=\"The New York Times Fiction Best Sellers of 1987\">1987</a>  </li>\n",
       " <li><a href=\"/wiki/The_New_York_Times_Fiction_Best_Sellers_of_1988\" title=\"The New York Times Fiction Best Sellers of 1988\">1988</a>  </li>\n",
       " <li><a href=\"/wiki/The_New_York_Times_Fiction_Best_Sellers_of_1989\" title=\"The New York Times Fiction Best Sellers of 1989\">1989</a>  </li>\n",
       " <li><a href=\"/wiki/The_New_York_Times_Fiction_Best_Sellers_of_1990\" title=\"The New York Times Fiction Best Sellers of 1990\">1990</a>  </li></ul>\n",
       " </div></td>,\n",
       " <td class=\"navbox-list navbox-even hlist\" style=\"text-align:left;border-left-width:2px;border-left-style:solid;width:100%;padding:0px\"><div style=\"padding:0em 0.25em\">\n",
       " <ul><li><a href=\"/wiki/The_New_York_Times_Fiction_Best_Sellers_of_1991\" title=\"The New York Times Fiction Best Sellers of 1991\">1991</a>  </li>\n",
       " <li><a href=\"/wiki/The_New_York_Times_Fiction_Best_Sellers_of_1992\" title=\"The New York Times Fiction Best Sellers of 1992\">1992</a>  </li>\n",
       " <li><a href=\"/wiki/The_New_York_Times_Fiction_Best_Sellers_of_1993\" title=\"The New York Times Fiction Best Sellers of 1993\">1993</a>  </li>\n",
       " <li><a href=\"/wiki/The_New_York_Times_Fiction_Best_Sellers_of_1994\" title=\"The New York Times Fiction Best Sellers of 1994\">1994</a>  </li>\n",
       " <li><a href=\"/wiki/The_New_York_Times_Fiction_Best_Sellers_of_1995\" title=\"The New York Times Fiction Best Sellers of 1995\">1995</a>  </li>\n",
       " <li><a href=\"/wiki/The_New_York_Times_Fiction_Best_Sellers_of_1996\" title=\"The New York Times Fiction Best Sellers of 1996\">1996</a>  </li>\n",
       " <li><a href=\"/wiki/The_New_York_Times_Fiction_Best_Sellers_of_1997\" title=\"The New York Times Fiction Best Sellers of 1997\">1997</a>  </li>\n",
       " <li><a href=\"/wiki/The_New_York_Times_Fiction_Best_Sellers_of_1998\" title=\"The New York Times Fiction Best Sellers of 1998\">1998</a>  </li>\n",
       " <li><a href=\"/wiki/The_New_York_Times_Fiction_Best_Sellers_of_1999\" title=\"The New York Times Fiction Best Sellers of 1999\">1999</a>  </li>\n",
       " <li><a href=\"/wiki/The_New_York_Times_Fiction_Best_Sellers_of_2000\" title=\"The New York Times Fiction Best Sellers of 2000\">2000</a>  </li>\n",
       " <li><a href=\"/wiki/The_New_York_Times_Fiction_Best_Sellers_of_2001\" title=\"The New York Times Fiction Best Sellers of 2001\">2001</a>  </li>\n",
       " <li><a href=\"/wiki/The_New_York_Times_Fiction_Best_Sellers_of_2002\" title=\"The New York Times Fiction Best Sellers of 2002\">2002</a>  </li>\n",
       " <li><a href=\"/wiki/The_New_York_Times_Fiction_Best_Sellers_of_2003\" title=\"The New York Times Fiction Best Sellers of 2003\">2003</a>  </li>\n",
       " <li><a href=\"/wiki/The_New_York_Times_Fiction_Best_Sellers_of_2004\" title=\"The New York Times Fiction Best Sellers of 2004\">2004</a>  </li>\n",
       " <li><a href=\"/wiki/The_New_York_Times_Fiction_Best_Sellers_of_2005\" title=\"The New York Times Fiction Best Sellers of 2005\">2005</a>  </li>\n",
       " <li><a href=\"/wiki/The_New_York_Times_Fiction_Best_Sellers_of_2006\" title=\"The New York Times Fiction Best Sellers of 2006\">2006</a>  </li>\n",
       " <li><a href=\"/wiki/The_New_York_Times_Fiction_Best_Sellers_of_2007\" title=\"The New York Times Fiction Best Sellers of 2007\">2007</a>  </li>\n",
       " <li><a href=\"/wiki/The_New_York_Times_Fiction_Best_Sellers_of_2008\" title=\"The New York Times Fiction Best Sellers of 2008\">2008</a>  </li>\n",
       " <li><a href=\"/wiki/The_New_York_Times_Fiction_Best_Sellers_of_2009\" title=\"The New York Times Fiction Best Sellers of 2009\">2009</a>  </li>\n",
       " <li><a href=\"/wiki/The_New_York_Times_Fiction_Best_Sellers_of_2010\" title=\"The New York Times Fiction Best Sellers of 2010\">2010</a>  </li></ul>\n",
       " </div></td>,\n",
       " <td class=\"navbox-list navbox-odd hlist\" style=\"text-align:left;border-left-width:2px;border-left-style:solid;width:100%;padding:0px\"><div style=\"padding:0em 0.25em\">\n",
       " <ul><li><a href=\"/wiki/The_New_York_Times_Fiction_Best_Sellers_of_2011\" title=\"The New York Times Fiction Best Sellers of 2011\">2011</a>  </li>\n",
       " <li><a href=\"/wiki/The_New_York_Times_Fiction_Best_Sellers_of_2012\" title=\"The New York Times Fiction Best Sellers of 2012\">2012</a>  </li>\n",
       " <li><a href=\"/wiki/The_New_York_Times_Fiction_Best_Sellers_of_2013\" title=\"The New York Times Fiction Best Sellers of 2013\">2013</a>  </li>\n",
       " <li><a href=\"/wiki/The_New_York_Times_Fiction_Best_Sellers_of_2014\" title=\"The New York Times Fiction Best Sellers of 2014\">2014</a>  </li>\n",
       " <li><a href=\"/wiki/The_New_York_Times_Fiction_Best_Sellers_of_2015\" title=\"The New York Times Fiction Best Sellers of 2015\">2015</a>  </li>\n",
       " <li><a href=\"/wiki/The_New_York_Times_Fiction_Best_Sellers_of_2016\" title=\"The New York Times Fiction Best Sellers of 2016\">2016</a>  </li>\n",
       " <li><a href=\"/wiki/The_New_York_Times_Fiction_Best_Sellers_of_2017\" title=\"The New York Times Fiction Best Sellers of 2017\">2017</a>  </li>\n",
       " <li><a href=\"/wiki/The_New_York_Times_Fiction_Best_Sellers_of_2018\" title=\"The New York Times Fiction Best Sellers of 2018\">2018</a>  </li>\n",
       " <li><a href=\"/wiki/The_New_York_Times_Fiction_Best_Sellers_of_2019\" title=\"The New York Times Fiction Best Sellers of 2019\">2019</a>  </li>\n",
       " <li><a href=\"/wiki/The_New_York_Times_Fiction_Best_Sellers_of_2020\" title=\"The New York Times Fiction Best Sellers of 2020\">2020</a>  </li></ul>\n",
       " </div></td>]"
      ]
     },
     "execution_count": 39,
     "metadata": {},
     "output_type": "execute_result"
    }
   ],
   "source": [
    "content.find_all('td', _class = False)"
   ]
  },
  {
   "cell_type": "code",
   "execution_count": null,
   "metadata": {},
   "outputs": [],
   "source": [
    "content.find_all"
   ]
  },
  {
   "cell_type": "markdown",
   "metadata": {},
   "source": [
    "# Get Books from Each List"
   ]
  },
  {
   "cell_type": "code",
   "execution_count": null,
   "metadata": {},
   "outputs": [],
   "source": [
    "def parse_wiki_table():\n",
    "    "
   ]
  }
 ],
 "metadata": {
  "kernelspec": {
   "display_name": "Python 3",
   "language": "python",
   "name": "python3"
  },
  "language_info": {
   "codemirror_mode": {
    "name": "ipython",
    "version": 3
   },
   "file_extension": ".py",
   "mimetype": "text/x-python",
   "name": "python",
   "nbconvert_exporter": "python",
   "pygments_lexer": "ipython3",
   "version": "3.7.3"
  }
 },
 "nbformat": 4,
 "nbformat_minor": 2
}
