{
 "cells": [
  {
   "cell_type": "markdown",
   "metadata": {},
   "source": [
    "# Import Packages"
   ]
  },
  {
   "cell_type": "code",
   "execution_count": 1,
   "metadata": {},
   "outputs": [],
   "source": [
    "import json\n",
    "import requests\n",
    "from bs4 import BeautifulSoup as BS\n",
    "import string\n",
    "import time\n",
    "import pandas as pd"
   ]
  },
  {
   "cell_type": "markdown",
   "metadata": {},
   "source": [
    "# Get List of NYTimes Fiction Bestsellers Lists"
   ]
  },
  {
   "cell_type": "code",
   "execution_count": 2,
   "metadata": {},
   "outputs": [
    {
     "name": "stdout",
     "output_type": "stream",
     "text": [
      "You are trying to parse a Wiki page.\n"
     ]
    }
   ],
   "source": [
    "# Get links to all lists of NYTimes Fiction Bestsellers since 1931\n",
    "url = \"https://en.wikipedia.org/wiki/Lists_of_The_New_York_Times_Fiction_Best_Sellers\"\n",
    "try:\n",
    "    print('You are trying to parse a Wiki page.')\n",
    "    page = requests.get(url)\n",
    "    content = BS(page.content, 'html.parser')\n",
    "except:\n",
    "    print('You failed to parse page')"
   ]
  },
  {
   "cell_type": "code",
   "execution_count": 3,
   "metadata": {},
   "outputs": [],
   "source": [
    "# Get all URLs to lists of NYTimes Fiction Bestsellers lists\n",
    "urls = content.find_all('a', href = True)\n",
    "links = [url['href'] for url in urls if url['href'].startswith('/wiki/The') and 'Fiction' in url['href']]\n",
    "all_urls = sorted(list(set(links)))"
   ]
  },
  {
   "cell_type": "code",
   "execution_count": 4,
   "metadata": {},
   "outputs": [
    {
     "data": {
      "text/plain": [
       "['/wiki/The_New_York_Times_Fiction_Best_Sellers_of_1931',\n",
       " '/wiki/The_New_York_Times_Fiction_Best_Sellers_of_1932',\n",
       " '/wiki/The_New_York_Times_Fiction_Best_Sellers_of_1933',\n",
       " '/wiki/The_New_York_Times_Fiction_Best_Sellers_of_1934',\n",
       " '/wiki/The_New_York_Times_Fiction_Best_Sellers_of_1935',\n",
       " '/wiki/The_New_York_Times_Fiction_Best_Sellers_of_1936',\n",
       " '/wiki/The_New_York_Times_Fiction_Best_Sellers_of_1937',\n",
       " '/wiki/The_New_York_Times_Fiction_Best_Sellers_of_1938',\n",
       " '/wiki/The_New_York_Times_Fiction_Best_Sellers_of_1939',\n",
       " '/wiki/The_New_York_Times_Fiction_Best_Sellers_of_1940',\n",
       " '/wiki/The_New_York_Times_Fiction_Best_Sellers_of_1941',\n",
       " '/wiki/The_New_York_Times_Fiction_Best_Sellers_of_1942',\n",
       " '/wiki/The_New_York_Times_Fiction_Best_Sellers_of_1943',\n",
       " '/wiki/The_New_York_Times_Fiction_Best_Sellers_of_1944',\n",
       " '/wiki/The_New_York_Times_Fiction_Best_Sellers_of_1945',\n",
       " '/wiki/The_New_York_Times_Fiction_Best_Sellers_of_1946',\n",
       " '/wiki/The_New_York_Times_Fiction_Best_Sellers_of_1947',\n",
       " '/wiki/The_New_York_Times_Fiction_Best_Sellers_of_1948',\n",
       " '/wiki/The_New_York_Times_Fiction_Best_Sellers_of_1949',\n",
       " '/wiki/The_New_York_Times_Fiction_Best_Sellers_of_1950',\n",
       " '/wiki/The_New_York_Times_Fiction_Best_Sellers_of_1951',\n",
       " '/wiki/The_New_York_Times_Fiction_Best_Sellers_of_1952',\n",
       " '/wiki/The_New_York_Times_Fiction_Best_Sellers_of_1953',\n",
       " '/wiki/The_New_York_Times_Fiction_Best_Sellers_of_1954',\n",
       " '/wiki/The_New_York_Times_Fiction_Best_Sellers_of_1955',\n",
       " '/wiki/The_New_York_Times_Fiction_Best_Sellers_of_1956',\n",
       " '/wiki/The_New_York_Times_Fiction_Best_Sellers_of_1957',\n",
       " '/wiki/The_New_York_Times_Fiction_Best_Sellers_of_1958',\n",
       " '/wiki/The_New_York_Times_Fiction_Best_Sellers_of_1959',\n",
       " '/wiki/The_New_York_Times_Fiction_Best_Sellers_of_1960',\n",
       " '/wiki/The_New_York_Times_Fiction_Best_Sellers_of_1961',\n",
       " '/wiki/The_New_York_Times_Fiction_Best_Sellers_of_1962',\n",
       " '/wiki/The_New_York_Times_Fiction_Best_Sellers_of_1963',\n",
       " '/wiki/The_New_York_Times_Fiction_Best_Sellers_of_1964',\n",
       " '/wiki/The_New_York_Times_Fiction_Best_Sellers_of_1965',\n",
       " '/wiki/The_New_York_Times_Fiction_Best_Sellers_of_1966',\n",
       " '/wiki/The_New_York_Times_Fiction_Best_Sellers_of_1967',\n",
       " '/wiki/The_New_York_Times_Fiction_Best_Sellers_of_1968',\n",
       " '/wiki/The_New_York_Times_Fiction_Best_Sellers_of_1969',\n",
       " '/wiki/The_New_York_Times_Fiction_Best_Sellers_of_1970',\n",
       " '/wiki/The_New_York_Times_Fiction_Best_Sellers_of_1971',\n",
       " '/wiki/The_New_York_Times_Fiction_Best_Sellers_of_1972',\n",
       " '/wiki/The_New_York_Times_Fiction_Best_Sellers_of_1973',\n",
       " '/wiki/The_New_York_Times_Fiction_Best_Sellers_of_1974',\n",
       " '/wiki/The_New_York_Times_Fiction_Best_Sellers_of_1975',\n",
       " '/wiki/The_New_York_Times_Fiction_Best_Sellers_of_1976',\n",
       " '/wiki/The_New_York_Times_Fiction_Best_Sellers_of_1977',\n",
       " '/wiki/The_New_York_Times_Fiction_Best_Sellers_of_1978',\n",
       " '/wiki/The_New_York_Times_Fiction_Best_Sellers_of_1979',\n",
       " '/wiki/The_New_York_Times_Fiction_Best_Sellers_of_1980',\n",
       " '/wiki/The_New_York_Times_Fiction_Best_Sellers_of_1981',\n",
       " '/wiki/The_New_York_Times_Fiction_Best_Sellers_of_1982',\n",
       " '/wiki/The_New_York_Times_Fiction_Best_Sellers_of_1983',\n",
       " '/wiki/The_New_York_Times_Fiction_Best_Sellers_of_1984',\n",
       " '/wiki/The_New_York_Times_Fiction_Best_Sellers_of_1985',\n",
       " '/wiki/The_New_York_Times_Fiction_Best_Sellers_of_1986',\n",
       " '/wiki/The_New_York_Times_Fiction_Best_Sellers_of_1987',\n",
       " '/wiki/The_New_York_Times_Fiction_Best_Sellers_of_1988',\n",
       " '/wiki/The_New_York_Times_Fiction_Best_Sellers_of_1989',\n",
       " '/wiki/The_New_York_Times_Fiction_Best_Sellers_of_1990',\n",
       " '/wiki/The_New_York_Times_Fiction_Best_Sellers_of_1991',\n",
       " '/wiki/The_New_York_Times_Fiction_Best_Sellers_of_1992',\n",
       " '/wiki/The_New_York_Times_Fiction_Best_Sellers_of_1993',\n",
       " '/wiki/The_New_York_Times_Fiction_Best_Sellers_of_1994',\n",
       " '/wiki/The_New_York_Times_Fiction_Best_Sellers_of_1995',\n",
       " '/wiki/The_New_York_Times_Fiction_Best_Sellers_of_1996',\n",
       " '/wiki/The_New_York_Times_Fiction_Best_Sellers_of_1997',\n",
       " '/wiki/The_New_York_Times_Fiction_Best_Sellers_of_1998',\n",
       " '/wiki/The_New_York_Times_Fiction_Best_Sellers_of_1999',\n",
       " '/wiki/The_New_York_Times_Fiction_Best_Sellers_of_2000',\n",
       " '/wiki/The_New_York_Times_Fiction_Best_Sellers_of_2001',\n",
       " '/wiki/The_New_York_Times_Fiction_Best_Sellers_of_2002',\n",
       " '/wiki/The_New_York_Times_Fiction_Best_Sellers_of_2003',\n",
       " '/wiki/The_New_York_Times_Fiction_Best_Sellers_of_2004',\n",
       " '/wiki/The_New_York_Times_Fiction_Best_Sellers_of_2005',\n",
       " '/wiki/The_New_York_Times_Fiction_Best_Sellers_of_2006',\n",
       " '/wiki/The_New_York_Times_Fiction_Best_Sellers_of_2007',\n",
       " '/wiki/The_New_York_Times_Fiction_Best_Sellers_of_2008',\n",
       " '/wiki/The_New_York_Times_Fiction_Best_Sellers_of_2009',\n",
       " '/wiki/The_New_York_Times_Fiction_Best_Sellers_of_2010',\n",
       " '/wiki/The_New_York_Times_Fiction_Best_Sellers_of_2011',\n",
       " '/wiki/The_New_York_Times_Fiction_Best_Sellers_of_2012',\n",
       " '/wiki/The_New_York_Times_Fiction_Best_Sellers_of_2013',\n",
       " '/wiki/The_New_York_Times_Fiction_Best_Sellers_of_2014',\n",
       " '/wiki/The_New_York_Times_Fiction_Best_Sellers_of_2015',\n",
       " '/wiki/The_New_York_Times_Fiction_Best_Sellers_of_2016',\n",
       " '/wiki/The_New_York_Times_Fiction_Best_Sellers_of_2017',\n",
       " '/wiki/The_New_York_Times_Fiction_Best_Sellers_of_2018',\n",
       " '/wiki/The_New_York_Times_Fiction_Best_Sellers_of_2019',\n",
       " '/wiki/The_New_York_Times_Fiction_Best_Sellers_of_2020']"
      ]
     },
     "execution_count": 4,
     "metadata": {},
     "output_type": "execute_result"
    }
   ],
   "source": [
    "all_urls"
   ]
  },
  {
   "cell_type": "code",
   "execution_count": 5,
   "metadata": {},
   "outputs": [
    {
     "data": {
      "text/plain": [
       "'/wiki/The_New_York_Times_Fiction_Best_Sellers_of_1931'"
      ]
     },
     "execution_count": 5,
     "metadata": {},
     "output_type": "execute_result"
    }
   ],
   "source": [
    "all_urls[0]"
   ]
  },
  {
   "cell_type": "markdown",
   "metadata": {},
   "source": [
    "# Get Books from 1931 List"
   ]
  },
  {
   "cell_type": "code",
   "execution_count": 6,
   "metadata": {},
   "outputs": [
    {
     "name": "stdout",
     "output_type": "stream",
     "text": [
      "1931\n",
      "You are trying to parse a Wiki page.\n"
     ]
    }
   ],
   "source": [
    "year = all_urls[0].split('_')[-1]\n",
    "print(year)\n",
    "url_1931 = \"https://en.wikipedia.org\" + all_urls[0]\n",
    "\n",
    "try:\n",
    "    print('You are trying to parse a Wiki page.')\n",
    "    page = requests.get(url_1931)\n",
    "    content = BS(page.content, 'html.parser')\n",
    "except:\n",
    "    print('You failed to parse the wiki.')"
   ]
  },
  {
   "cell_type": "code",
   "execution_count": 14,
   "metadata": {},
   "outputs": [
    {
     "data": {
      "text/plain": [
       "[<th>Date\n",
       " </th>,\n",
       " <th>Book\n",
       " </th>,\n",
       " <th>Author\n",
       " </th>]"
      ]
     },
     "execution_count": 14,
     "metadata": {},
     "output_type": "execute_result"
    }
   ],
   "source": [
    "# Get table headers\n",
    "content.find_all('table')[0].find_all('th')"
   ]
  },
  {
   "cell_type": "code",
   "execution_count": 16,
   "metadata": {},
   "outputs": [],
   "source": [
    "# Get table contents\n",
    "table_1931 = content.find_all('table')[0].find_all('td')"
   ]
  },
  {
   "cell_type": "code",
   "execution_count": 18,
   "metadata": {},
   "outputs": [
    {
     "data": {
      "text/plain": [
       "['October 12',\n",
       " 'The Ten Commandments',\n",
       " 'Warwick Deeping',\n",
       " 'October 19',\n",
       " 'No List Published',\n",
       " 'October 26',\n",
       " 'November 2',\n",
       " 'November 9',\n",
       " 'November 16',\n",
       " 'Maid in Waiting',\n",
       " 'John Galsworthy',\n",
       " 'November 23',\n",
       " 'No List Published',\n",
       " 'November 30',\n",
       " 'Maid in Waiting',\n",
       " 'John Galsworthy',\n",
       " 'December 7',\n",
       " 'December 14',\n",
       " 'December 21',\n",
       " 'December 28']"
      ]
     },
     "execution_count": 18,
     "metadata": {},
     "output_type": "execute_result"
    }
   ],
   "source": [
    "[item.text.strip() for item in table_1931]"
   ]
  },
  {
   "cell_type": "markdown",
   "metadata": {},
   "source": [
    "# Get Books from 2019 List"
   ]
  },
  {
   "cell_type": "code",
   "execution_count": 20,
   "metadata": {},
   "outputs": [
    {
     "name": "stdout",
     "output_type": "stream",
     "text": [
      "2019\n",
      "You are trying to parse a Wiki page.\n"
     ]
    }
   ],
   "source": [
    "year = all_urls[-2].split('_')[-1]\n",
    "print(year)\n",
    "url_2019 = \"https://en.wikipedia.org\" + all_urls[-2]\n",
    "\n",
    "try:\n",
    "    print('You are trying to parse a Wiki page.')\n",
    "    page = requests.get(url_2019)\n",
    "    content = BS(page.content, 'html.parser')\n",
    "except:\n",
    "    print('You failed to parse the wiki.')"
   ]
  },
  {
   "cell_type": "code",
   "execution_count": 22,
   "metadata": {},
   "outputs": [
    {
     "data": {
      "text/plain": [
       "[<th>Date\n",
       " </th>,\n",
       " <th>Book\n",
       " </th>,\n",
       " <th>Author\n",
       " </th>]"
      ]
     },
     "execution_count": 22,
     "metadata": {},
     "output_type": "execute_result"
    }
   ],
   "source": [
    "# Get table headers\n",
    "content.find_all('table')[0].find_all('th')"
   ]
  },
  {
   "cell_type": "code",
   "execution_count": 24,
   "metadata": {},
   "outputs": [],
   "source": [
    "# Get table contents\n",
    "table_2019 = content.find_all('table')[0].find_all('td')"
   ]
  },
  {
   "cell_type": "code",
   "execution_count": 25,
   "metadata": {},
   "outputs": [
    {
     "data": {
      "text/plain": [
       "[<td>January 6\n",
       " </td>,\n",
       " <td><i><a href=\"/wiki/The_Reckoning_(Grisham_novel)\" title=\"The Reckoning (Grisham novel)\">The Reckoning</a></i>\n",
       " </td>,\n",
       " <td><a href=\"/wiki/John_Grisham\" title=\"John Grisham\">John Grisham</a>\n",
       " </td>,\n",
       " <td>January 13\n",
       " </td>,\n",
       " <td><i>Long Road to Mercy</i>\n",
       " </td>,\n",
       " <td><a href=\"/wiki/David_Baldacci\" title=\"David Baldacci\">David Baldacci</a>\n",
       " </td>,\n",
       " <td>January 20\n",
       " </td>,\n",
       " <td><i><a href=\"/wiki/Verses_for_the_Dead\" title=\"Verses for the Dead\">Verses for the Dead</a></i>\n",
       " </td>,\n",
       " <td><a href=\"/wiki/Douglas_Preston\" title=\"Douglas Preston\">Douglas Preston</a> and <a href=\"/wiki/Lincoln_Child\" title=\"Lincoln Child\">Lincoln Child</a>\n",
       " </td>,\n",
       " <td>January 27\n",
       " </td>,\n",
       " <td><i>Turning Point</i>\n",
       " </td>,\n",
       " <td><a href=\"/wiki/Danielle_Steel\" title=\"Danielle Steel\">Danielle Steel</a>\n",
       " </td>,\n",
       " <td>February 3\n",
       " </td>,\n",
       " <td rowspan=\"3\"><i><a href=\"/wiki/Where_the_Crawdads_Sing\" title=\"Where the Crawdads Sing\">Where the Crawdads Sing</a></i>\n",
       " </td>,\n",
       " <td rowspan=\"3\"><a href=\"/wiki/Delia_Owens\" title=\"Delia Owens\">Delia Owens</a>\n",
       " </td>,\n",
       " <td>February 10\n",
       " </td>,\n",
       " <td>February 17\n",
       " </td>,\n",
       " <td>February 24\n",
       " </td>,\n",
       " <td rowspan=\"1\"><i>Connections in Death</i>\n",
       " </td>,\n",
       " <td rowspan=\"1\"><a href=\"/wiki/Nora_Roberts\" title=\"Nora Roberts\">J. D. Robb</a>\n",
       " </td>,\n",
       " <td>March 3\n",
       " </td>,\n",
       " <td rowspan=\"9\"><i>Where the Crawdads Sing</i>\n",
       " </td>,\n",
       " <td rowspan=\"9\">Delia Owens\n",
       " </td>,\n",
       " <td>March 10\n",
       " </td>,\n",
       " <td>March 17\n",
       " </td>,\n",
       " <td>March 24\n",
       " </td>,\n",
       " <td>March 31\n",
       " </td>,\n",
       " <td>April 7\n",
       " </td>,\n",
       " <td>April 14\n",
       " </td>,\n",
       " <td>April 21\n",
       " </td>,\n",
       " <td>April 28\n",
       " </td>,\n",
       " <td>May 5\n",
       " </td>,\n",
       " <td rowspan=\"1\"><i>Redemption</i>\n",
       " </td>,\n",
       " <td rowspan=\"1\">David Baldacci\n",
       " </td>,\n",
       " <td>May 12\n",
       " </td>,\n",
       " <td rowspan=\"1\"><i>Neon Prey</i>\n",
       " </td>,\n",
       " <td rowspan=\"1\"><a href=\"/wiki/John_Sandford_(novelist)\" title=\"John Sandford (novelist)\">John Sandford</a>\n",
       " </td>,\n",
       " <td>May 19\n",
       " </td>,\n",
       " <td rowspan=\"1\"><i><a href=\"/wiki/18th_Abduction\" title=\"18th Abduction\">18th Abduction</a></i>\n",
       " </td>,\n",
       " <td rowspan=\"1\"><a href=\"/wiki/James_Patterson\" title=\"James Patterson\">James Patterson</a> and <a href=\"/wiki/Maxine_Paetro\" title=\"Maxine Paetro\">Maxine Paetro</a>\n",
       " </td>,\n",
       " <td>May 26\n",
       " </td>,\n",
       " <td rowspan=\"6\"><i>Where the Crawdads Sing</i>\n",
       " </td>,\n",
       " <td rowspan=\"6\">Delia Owens\n",
       " </td>,\n",
       " <td>June 2\n",
       " </td>,\n",
       " <td>June 9\n",
       " </td>,\n",
       " <td>June 16\n",
       " </td>,\n",
       " <td>June 23\n",
       " </td>,\n",
       " <td>June 30\n",
       " </td>,\n",
       " <td>July 7\n",
       " </td>,\n",
       " <td rowspan=\"1\"><i>Summer of '69</i>\n",
       " </td>,\n",
       " <td rowspan=\"1\"><a href=\"/wiki/Elin_Hilderbrand\" title=\"Elin Hilderbrand\">Elin Hilderbrand</a>\n",
       " </td>,\n",
       " <td>July 14\n",
       " </td>,\n",
       " <td rowspan=\"2\"><i>Where the Crawdads Sing</i>\n",
       " </td>,\n",
       " <td rowspan=\"2\">Delia Owens\n",
       " </td>,\n",
       " <td>July 21\n",
       " </td>,\n",
       " <td>July 28\n",
       " </td>,\n",
       " <td rowspan=\"1\"><i>Under Currents</i>\n",
       " </td>,\n",
       " <td rowspan=\"1\"><a href=\"/wiki/Nora_Roberts\" title=\"Nora Roberts\">Nora Roberts</a>\n",
       " </td>,\n",
       " <td>August 4\n",
       " </td>,\n",
       " <td rowspan=\"1\"><i>The New Girl</i>\n",
       " </td>,\n",
       " <td rowspan=\"1\"><a href=\"/wiki/Daniel_Silva_(novelist)\" title=\"Daniel Silva (novelist)\">Daniel Silva</a>\n",
       " </td>,\n",
       " <td>August 11\n",
       " </td>,\n",
       " <td rowspan=\"1\"><i>One Good Deed</i>\n",
       " </td>,\n",
       " <td rowspan=\"1\"><a href=\"/wiki/David_Baldacci\" title=\"David Baldacci\">David Baldacci</a>\n",
       " </td>,\n",
       " <td>August 18\n",
       " </td>,\n",
       " <td rowspan=\"4\"><i>Where the Crawdads Sing</i>\n",
       " </td>,\n",
       " <td rowspan=\"4\">Delia Owens\n",
       " </td>,\n",
       " <td>August 25\n",
       " </td>,\n",
       " <td>September 1\n",
       " </td>,\n",
       " <td>September 8\n",
       " </td>,\n",
       " <td>September 15\n",
       " </td>,\n",
       " <td rowspan=\"1\"><i>A Better Man</i>\n",
       " </td>,\n",
       " <td rowspan=\"1\"><a href=\"/wiki/Louise_Penny\" title=\"Louise Penny\">Louise Penny</a>\n",
       " </td>,\n",
       " <td>September 22\n",
       " </td>,\n",
       " <td rowspan=\"1\"><i>Vendetta in Death</i>\n",
       " </td>,\n",
       " <td rowspan=\"1\"><a class=\"mw-redirect\" href=\"/wiki/J._D._Robb\" title=\"J. D. Robb\">J. D. Robb</a>\n",
       " </td>,\n",
       " <td>September 29\n",
       " </td>,\n",
       " <td rowspan=\"2\"><i><a href=\"/wiki/The_Institute_(novel)\" title=\"The Institute (novel)\">The Institute</a></i>\n",
       " </td>,\n",
       " <td rowspan=\"2\"><a href=\"/wiki/Stephen_King\" title=\"Stephen King\">Stephen King</a>\n",
       " </td>,\n",
       " <td>October 6\n",
       " </td>,\n",
       " <td>October 13\n",
       " </td>,\n",
       " <td rowspan=\"1\"><i><a href=\"/wiki/The_Water_Dancer\" title=\"The Water Dancer\">The Water Dancer</a></i>\n",
       " </td>,\n",
       " <td rowspan=\"1\"><a href=\"/wiki/Ta-Nehisi_Coates\" title=\"Ta-Nehisi Coates\">Ta-Nehisi Coates</a>\n",
       " </td>,\n",
       " <td>October 20\n",
       " </td>,\n",
       " <td rowspan=\"1\"><i>Bloody Genius</i>\n",
       " </td>,\n",
       " <td rowspan=\"1\"><a href=\"/wiki/John_Sandford_(novelist)\" title=\"John Sandford (novelist)\">John Sandford</a>\n",
       " </td>,\n",
       " <td>October 27\n",
       " </td>,\n",
       " <td rowspan=\"1\"><i>The 19th Christmas</i>\n",
       " </td>,\n",
       " <td rowspan=\"1\">James Patterson and Maxine Paetro\n",
       " </td>,\n",
       " <td>November 3\n",
       " </td>,\n",
       " <td rowspan=\"1\"><i>The Guardians</i>\n",
       " </td>,\n",
       " <td rowspan=\"1\"><a href=\"/wiki/John_Grisham\" title=\"John Grisham\">John Grisham</a>\n",
       " </td>,\n",
       " <td>November 10\n",
       " </td>,\n",
       " <td rowspan=\"1\"><i>The Night Fire</i>\n",
       " </td>,\n",
       " <td rowspan=\"1\"><a href=\"/wiki/Michael_Connelly\" title=\"Michael Connelly\">Michael Connelly</a>\n",
       " </td>,\n",
       " <td>November 17\n",
       " </td>,\n",
       " <td rowspan=\"2\"><i>Blue Moon</i>\n",
       " </td>,\n",
       " <td rowspan=\"2\"><a href=\"/wiki/Lee_Child\" title=\"Lee Child\">Lee Child</a>\n",
       " </td>,\n",
       " <td>November 24\n",
       " </td>,\n",
       " <td>December 1\n",
       " </td>,\n",
       " <td rowspan=\"1\"><i>Twisted Twenty-Six</i>\n",
       " </td>,\n",
       " <td rowspan=\"1\"><a href=\"/wiki/Janet_Evanovich\" title=\"Janet Evanovich\">Janet Evanovich</a>\n",
       " </td>,\n",
       " <td>December 8\n",
       " </td>,\n",
       " <td rowspan=\"1\"><i>A Minute to Midnight</i>\n",
       " </td>,\n",
       " <td rowspan=\"1\">David Baldacci\n",
       " </td>,\n",
       " <td>December 15\n",
       " </td>,\n",
       " <td rowspan=\"1\"><i>The Rise of Magicks</i>\n",
       " </td>,\n",
       " <td rowspan=\"1\">Nora Roberts\n",
       " </td>,\n",
       " <td>December 22\n",
       " </td>,\n",
       " <td rowspan=\"1\"><i>The Guardians</i>\n",
       " </td>,\n",
       " <td rowspan=\"1\">John Grisham\n",
       " </td>,\n",
       " <td>December 29\n",
       " </td>,\n",
       " <td><i>Where The Crawdads Sing</i>\n",
       " </td>,\n",
       " <td rowspan=\"1\">Delia Owens\n",
       " </td>]"
      ]
     },
     "execution_count": 25,
     "metadata": {},
     "output_type": "execute_result"
    }
   ],
   "source": [
    "table_2019"
   ]
  },
  {
   "cell_type": "code",
   "execution_count": 27,
   "metadata": {},
   "outputs": [
    {
     "data": {
      "text/plain": [
       "['January 6',\n",
       " 'The Reckoning',\n",
       " 'John Grisham',\n",
       " 'January 13',\n",
       " 'Long Road to Mercy',\n",
       " 'David Baldacci',\n",
       " 'January 20',\n",
       " 'Verses for the Dead',\n",
       " 'Douglas Preston and Lincoln Child',\n",
       " 'January 27',\n",
       " 'Turning Point',\n",
       " 'Danielle Steel',\n",
       " 'February 3',\n",
       " 'Where the Crawdads Sing',\n",
       " 'Delia Owens',\n",
       " 'February 10',\n",
       " 'February 17',\n",
       " 'February 24',\n",
       " 'Connections in Death',\n",
       " 'J. D. Robb',\n",
       " 'March 3',\n",
       " 'Where the Crawdads Sing',\n",
       " 'Delia Owens',\n",
       " 'March 10',\n",
       " 'March 17',\n",
       " 'March 24',\n",
       " 'March 31',\n",
       " 'April 7',\n",
       " 'April 14',\n",
       " 'April 21',\n",
       " 'April 28',\n",
       " 'May 5',\n",
       " 'Redemption',\n",
       " 'David Baldacci',\n",
       " 'May 12',\n",
       " 'Neon Prey',\n",
       " 'John Sandford',\n",
       " 'May 19',\n",
       " '18th Abduction',\n",
       " 'James Patterson and Maxine Paetro',\n",
       " 'May 26',\n",
       " 'Where the Crawdads Sing',\n",
       " 'Delia Owens',\n",
       " 'June 2',\n",
       " 'June 9',\n",
       " 'June 16',\n",
       " 'June 23',\n",
       " 'June 30',\n",
       " 'July 7',\n",
       " \"Summer of '69\",\n",
       " 'Elin Hilderbrand',\n",
       " 'July 14',\n",
       " 'Where the Crawdads Sing',\n",
       " 'Delia Owens',\n",
       " 'July 21',\n",
       " 'July 28',\n",
       " 'Under Currents',\n",
       " 'Nora Roberts',\n",
       " 'August 4',\n",
       " 'The New Girl',\n",
       " 'Daniel Silva',\n",
       " 'August 11',\n",
       " 'One Good Deed',\n",
       " 'David Baldacci',\n",
       " 'August 18',\n",
       " 'Where the Crawdads Sing',\n",
       " 'Delia Owens',\n",
       " 'August 25',\n",
       " 'September 1',\n",
       " 'September 8',\n",
       " 'September 15',\n",
       " 'A Better Man',\n",
       " 'Louise Penny',\n",
       " 'September 22',\n",
       " 'Vendetta in Death',\n",
       " 'J. D. Robb',\n",
       " 'September 29',\n",
       " 'The Institute',\n",
       " 'Stephen King',\n",
       " 'October 6',\n",
       " 'October 13',\n",
       " 'The Water Dancer',\n",
       " 'Ta-Nehisi Coates',\n",
       " 'October 20',\n",
       " 'Bloody Genius',\n",
       " 'John Sandford',\n",
       " 'October 27',\n",
       " 'The 19th Christmas',\n",
       " 'James Patterson and Maxine Paetro',\n",
       " 'November 3',\n",
       " 'The Guardians',\n",
       " 'John Grisham',\n",
       " 'November 10',\n",
       " 'The Night Fire',\n",
       " 'Michael Connelly',\n",
       " 'November 17',\n",
       " 'Blue Moon',\n",
       " 'Lee Child',\n",
       " 'November 24',\n",
       " 'December 1',\n",
       " 'Twisted Twenty-Six',\n",
       " 'Janet Evanovich',\n",
       " 'December 8',\n",
       " 'A Minute to Midnight',\n",
       " 'David Baldacci',\n",
       " 'December 15',\n",
       " 'The Rise of Magicks',\n",
       " 'Nora Roberts',\n",
       " 'December 22',\n",
       " 'The Guardians',\n",
       " 'John Grisham',\n",
       " 'December 29',\n",
       " 'Where The Crawdads Sing',\n",
       " 'Delia Owens']"
      ]
     },
     "execution_count": 27,
     "metadata": {},
     "output_type": "execute_result"
    }
   ],
   "source": [
    "[item.text.strip() for item in table_2019]"
   ]
  },
  {
   "cell_type": "code",
   "execution_count": 30,
   "metadata": {},
   "outputs": [],
   "source": [
    "table_rows = content.find_all('table')[0].find_all('tr')"
   ]
  },
  {
   "cell_type": "code",
   "execution_count": 78,
   "metadata": {},
   "outputs": [
    {
     "name": "stdout",
     "output_type": "stream",
     "text": [
      "[]\n"
     ]
    }
   ],
   "source": [
    "books_2019 = {}\n",
    "for row in table_rows:\n",
    "    \n",
    "    row_content = row.find_all('td')\n",
    "    cur_book = ()\n",
    "    \n",
    "    # If full row of information\n",
    "    if len(row_content) == 3:\n",
    "        date = row_content[0].text.strip()\n",
    "        title = row_content[1].text.strip()\n",
    "        author = row_content[2].text.strip()\n",
    "        key = (title.lower().title(), author)\n",
    "        \n",
    "        if key in books_2019.keys():\n",
    "            books_2019[key].append(date)\n",
    "        \n",
    "        else:\n",
    "            books_2019[key] = [date]\n",
    "            \n",
    "        cur_book = key\n",
    "    \n",
    "    # If book was on the list for multiple weeks\n",
    "    elif len(row_content) == 1:\n",
    "        date = row_content[0].text.strip()\n",
    "        books_2019[key].append(date)\n",
    "        \n",
    "    elif len(row_content) < 3:\n",
    "        print(row_content)"
   ]
  },
  {
   "cell_type": "code",
   "execution_count": 79,
   "metadata": {},
   "outputs": [
    {
     "data": {
      "text/plain": [
       "{('The Reckoning', 'John Grisham'): ['January 6'],\n",
       " ('Long Road To Mercy', 'David Baldacci'): ['January 13'],\n",
       " ('Verses For The Dead', 'Douglas Preston and Lincoln Child'): ['January 20'],\n",
       " ('Turning Point', 'Danielle Steel'): ['January 27'],\n",
       " ('Where The Crawdads Sing', 'Delia Owens'): ['February 3',\n",
       "  'February 10',\n",
       "  'February 17',\n",
       "  'March 3',\n",
       "  'March 10',\n",
       "  'March 17',\n",
       "  'March 24',\n",
       "  'March 31',\n",
       "  'April 7',\n",
       "  'April 14',\n",
       "  'April 21',\n",
       "  'April 28',\n",
       "  'May 26',\n",
       "  'June 2',\n",
       "  'June 9',\n",
       "  'June 16',\n",
       "  'June 23',\n",
       "  'June 30',\n",
       "  'July 14',\n",
       "  'July 21',\n",
       "  'August 18',\n",
       "  'August 25',\n",
       "  'September 1',\n",
       "  'September 8',\n",
       "  'December 29'],\n",
       " ('Connections In Death', 'J. D. Robb'): ['February 24'],\n",
       " ('Redemption', 'David Baldacci'): ['May 5'],\n",
       " ('Neon Prey', 'John Sandford'): ['May 12'],\n",
       " ('18Th Abduction', 'James Patterson and Maxine Paetro'): ['May 19'],\n",
       " (\"Summer Of '69\", 'Elin Hilderbrand'): ['July 7'],\n",
       " ('Under Currents', 'Nora Roberts'): ['July 28'],\n",
       " ('The New Girl', 'Daniel Silva'): ['August 4'],\n",
       " ('One Good Deed', 'David Baldacci'): ['August 11'],\n",
       " ('A Better Man', 'Louise Penny'): ['September 15'],\n",
       " ('Vendetta In Death', 'J. D. Robb'): ['September 22'],\n",
       " ('The Institute', 'Stephen King'): ['September 29', 'October 6'],\n",
       " ('The Water Dancer', 'Ta-Nehisi Coates'): ['October 13'],\n",
       " ('Bloody Genius', 'John Sandford'): ['October 20'],\n",
       " ('The 19Th Christmas', 'James Patterson and Maxine Paetro'): ['October 27'],\n",
       " ('The Guardians', 'John Grisham'): ['November 3', 'December 22'],\n",
       " ('The Night Fire', 'Michael Connelly'): ['November 10'],\n",
       " ('Blue Moon', 'Lee Child'): ['November 17', 'November 24'],\n",
       " ('Twisted Twenty-Six', 'Janet Evanovich'): ['December 1'],\n",
       " ('A Minute To Midnight', 'David Baldacci'): ['December 8'],\n",
       " ('The Rise Of Magicks', 'Nora Roberts'): ['December 15']}"
      ]
     },
     "execution_count": 79,
     "metadata": {},
     "output_type": "execute_result"
    }
   ],
   "source": [
    "books_2019"
   ]
  },
  {
   "cell_type": "markdown",
   "metadata": {},
   "source": [
    "# Get Books from Each List"
   ]
  },
  {
   "cell_type": "code",
   "execution_count": null,
   "metadata": {},
   "outputs": [],
   "source": [
    "def parse_wiki_table():\n",
    "    "
   ]
  }
 ],
 "metadata": {
  "kernelspec": {
   "display_name": "Python 3",
   "language": "python",
   "name": "python3"
  },
  "language_info": {
   "codemirror_mode": {
    "name": "ipython",
    "version": 3
   },
   "file_extension": ".py",
   "mimetype": "text/x-python",
   "name": "python",
   "nbconvert_exporter": "python",
   "pygments_lexer": "ipython3",
   "version": "3.7.6"
  }
 },
 "nbformat": 4,
 "nbformat_minor": 2
}
